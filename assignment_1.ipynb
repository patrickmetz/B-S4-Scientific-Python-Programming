{
 "nbformat": 4,
 "nbformat_minor": 0,
 "metadata": {
  "kernelspec": {
   "display_name": "Python 3",
   "language": "python",
   "name": "python3"
  },
  "language_info": {
   "codemirror_mode": {
    "name": "ipython",
    "version": 3
   },
   "file_extension": ".py",
   "mimetype": "text/x-python",
   "name": "python",
   "nbconvert_exporter": "python",
   "pygments_lexer": "ipython3",
   "version": "3.8.1"
  },
  "colab": {
   "name": "intro_example.ipynb",
   "provenance": []
  }
 },
 "cells": [
  {
   "cell_type": "markdown",
   "metadata": {
    "id": "f9axgr7NlBar"
   },
   "source": [
    "# <center> Scientific Programming with Python\n",
    "## <center> Assignment: Energy of a Particle in a One Dimensional Box"
   ]
  },
  {
   "cell_type": "markdown",
   "metadata": {
    "id": "pNsd5atblBaz"
   },
   "source": [
    "**Author:** Patrick Metz (pmetz2s; 9033945)  \n",
    "**Date:** April 14th, 2021\n",
    "\n",
    "#### Task 1\n",
    "Implement equation of particle energy according to the \"Particle in a box\"-model. \n",
    "\n",
    "For a particle with a specific mass,\n",
    "moving in a one dimensional box of a certain length,\n",
    "having a given energy level.\n",
    "\n",
    "See also:   \n",
    "https://en.wikipedia.org/wiki/Particle_in_a_box  \n",
    "https://en.wikipedia.org/wiki/Planck_constant"
   ]
  },
  {
   "cell_type": "code",
   "metadata": {
    "id": "po8_XI51lBa0",
    "pycharm": {
     "name": "#%%\n"
    }
   },
   "source": [
    "def particle_energy(particle_mass : float, box_length : float, energy_level : int):\n",
    "    PLANCK_CONSTANT = 6.62607015E-34\n",
    "\n",
    "    return (energy_level**2 * PLANCK_CONSTANT**2) / (8 * particle_mass * box_length**2)"
   ],
   "execution_count": 5,
   "outputs": []
  },
  {
   "cell_type": "markdown",
   "source": [
    "#### Task 2\n",
    "Apply the equation to an electron with two different energy levels."
   ],
   "metadata": {
    "collapsed": false,
    "pycharm": {
     "name": "#%% md\n"
    }
   }
  },
  {
   "cell_type": "code",
   "execution_count": 6,
   "outputs": [],
   "source": [
    "particle_mass = 9.11E-31\n",
    "box_length    = 1.0E-9"
   ],
   "metadata": {
    "collapsed": false,
    "pycharm": {
     "name": "#%%\n"
    }
   }
  },
  {
   "cell_type": "code",
   "execution_count": 7,
   "outputs": [
    {
     "data": {
      "text/plain": "6.024259828858537e-20"
     },
     "execution_count": 7,
     "metadata": {},
     "output_type": "execute_result"
    }
   ],
   "source": [
    "particle_energy(particle_mass, box_length, 1)"
   ],
   "metadata": {
    "collapsed": false,
    "pycharm": {
     "name": "#%%\n"
    }
   }
  },
  {
   "cell_type": "code",
   "execution_count": 8,
   "outputs": [
    {
     "data": {
      "text/plain": "2.4097039315434146e-19"
     },
     "execution_count": 8,
     "metadata": {},
     "output_type": "execute_result"
    }
   ],
   "source": [
    "particle_energy(particle_mass, box_length, 2)"
   ],
   "metadata": {
    "collapsed": false,
    "pycharm": {
     "name": "#%%\n"
    }
   }
  }
 ]
}