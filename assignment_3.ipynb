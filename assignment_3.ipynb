{
 "nbformat": 4,
 "nbformat_minor": 0,
 "metadata": {
  "kernelspec": {
   "display_name": "Python 3",
   "language": "python",
   "name": "python3"
  },
  "language_info": {
   "codemirror_mode": {
    "name": "ipython",
    "version": 3
   },
   "file_extension": ".py",
   "mimetype": "text/x-python",
   "name": "python",
   "nbconvert_exporter": "python",
   "pygments_lexer": "ipython3",
   "version": "3.8.1"
  },
  "colab": {
   "name": "intro_example.ipynb",
   "provenance": []
  }
 },
 "cells": [
  {
   "cell_type": "markdown",
   "metadata": {
    "id": "f9axgr7NlBar"
   },
   "source": [
    "# <center> Scientific Programming with Python\n",
    "## <center> Assignment 3: Energy of a Particle in a One Dimensional Box"
   ]
  },
  {
   "cell_type": "markdown",
   "metadata": {
    "id": "pNsd5atblBaz"
   },
   "source": [
    "**Author:** Patrick Metz (pmetz2s; 9033945)  \n",
    "**Date:** April 26th, 2021\n",
    "\n",
    "#### Task 1"
   ]
  },
  {
   "cell_type": "code",
   "metadata": {
    "id": "po8_XI51lBa0",
    "pycharm": {
     "name": "#%%\n"
    }
   },
   "source": [
    "def particle_energy(particle_mass: float = None, box_length: float = None, quantum_number: int = None) -> float:\n",
    "    '''\n",
    "    Returns particle energy in joules, according to the \"Particle in a box\"-model of \n",
    "    quantum mechanics. For a particle with a specific mass (in kg), moving in a one dimensional box of \n",
    "    a certain length (in m), having a given quantum number (energy level).\n",
    "\n",
    "    :param particle_mass:  The mass of a given particle in kilograms.\n",
    "    :param box_length:     The desired length of a one dimensional box in meters.\n",
    "    :param quantum_number: A specific energy level, in which the chosen particle should exist in.\n",
    "    :return:               The calculated energy, of the particle moving inside the box, in joules.\n",
    "    '''    \n",
    "    \n",
    "    if particle_mass is None:\n",
    "        print(\"Please specify a particle mass.\")\n",
    "        return None    \n",
    "    if box_length is None:\n",
    "        print(\"Please specify a box length.\")\n",
    "        return None    \n",
    "    if quantum_number is None:\n",
    "        print(\"Please specify a quantum number.\")\n",
    "        return None\n",
    "    \n",
    "    if not isinstance(particle_mass, float):\n",
    "        print(\"Please specify the particle mass as a floating point number.\")\n",
    "        return None\n",
    "    if not isinstance(box_length, float):\n",
    "        print(\"Please specify the box length as a floating point number.\")\n",
    "        return None    \n",
    "    if not isinstance(quantum_number, int):\n",
    "        print(\"Please specify the quantum number as an integer number.\")\n",
    "        return None\n",
    "    \n",
    "    planck_constant = 6.62607015E-34\n",
    "\n",
    "    return (quantum_number ** 2 * planck_constant ** 2) / (8 * particle_mass * box_length ** 2)"
   ],
   "execution_count": 47,
   "outputs": []
  },
  {
   "cell_type": "markdown",
   "source": [
    "#### Task 2"
   ],
   "metadata": {
    "collapsed": false,
    "pycharm": {
     "name": "#%% md\n"
    }
   }
  },
  {
   "cell_type": "code",
   "execution_count": 48,
   "outputs": [
    {
     "name": "stdout",
     "output_type": "stream",
     "text": [
      "The energy of a particle with mass 9.11e-31 kg, inside a box of length 1e-09 m is: \n",
      "\n",
      "6.024259828858537e-20 J for a quantum number of 1\n",
      "2.4097039315434146e-19 J for a quantum number of 2\n",
      "5.421833845972683e-19 J for a quantum number of 3\n",
      "9.638815726173658e-19 J for a quantum number of 4\n",
      "1.5060649572146343e-18 J for a quantum number of 5\n",
      "2.1687335383890732e-18 J for a quantum number of 6\n",
      "2.951887316140683e-18 J for a quantum number of 7\n",
      "3.855526290469463e-18 J for a quantum number of 8\n",
      "4.879650461375415e-18 J for a quantum number of 9\n",
      "6.024259828858537e-18 J for a quantum number of 10\n"
     ]
    }
   ],
   "source": [
    "# apply the equation to the same one dimensional box and electron, for the first ten energy levels.\n",
    "particle_mass = 9.11E-31\n",
    "box_length = 1.0E-9\n",
    "\n",
    "print('The energy of a particle with mass {0} kg, inside a box of length {1} m is: \\n' \\\n",
    "      .format(particle_mass, box_length))\n",
    "for quantum_number in range(1, 11):\n",
    "    energy = particle_energy(particle_mass, box_length, quantum_number) \n",
    "    print('{0} J for a quantum number of {1}'.format(energy, quantum_number))\n",
    "\n",
    "\n",
    "    "
   ],
   "metadata": {
    "collapsed": false,
    "pycharm": {
     "name": "#%%\n"
    }
   }
  }
 ]
}