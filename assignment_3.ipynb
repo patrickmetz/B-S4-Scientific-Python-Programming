{
 "nbformat": 4,
 "nbformat_minor": 0,
 "metadata": {
  "kernelspec": {
   "display_name": "Python 3",
   "language": "python",
   "name": "python3"
  },
  "language_info": {
   "codemirror_mode": {
    "name": "ipython",
    "version": 3
   },
   "file_extension": ".py",
   "mimetype": "text/x-python",
   "name": "python",
   "nbconvert_exporter": "python",
   "pygments_lexer": "ipython3",
   "version": "3.8.1"
  },
  "colab": {
   "name": "intro_example.ipynb",
   "provenance": []
  }
 },
 "cells": [
  {
   "cell_type": "markdown",
   "metadata": {
    "id": "f9axgr7NlBar"
   },
   "source": [
    "# <center> Scientific Programming with Python\n",
    "## <center> Assignment 3: Energy of a Particle in a One Dimensional Box"
   ]
  },
  {
   "cell_type": "markdown",
   "metadata": {
    "id": "pNsd5atblBaz"
   },
   "source": [
    "**Author:** Patrick Metz (pmetz2s; 9033945)  \n",
    "**Date:** April 26th, 2021\n",
    "\n",
    "#### Task 1\n",
    "Goal: implement the equation of the \"Particle in a box\"-model of quantum mechanics.\n",
    "\n",
    "$ E(n) = \\frac{n^2 h^2}{8m L^2} $\n",
    "\n",
    "| &nbsp; | Unit | Meaning |\n",
    "| --- | --- | --- |\n",
    "| $E(n)$ | $J = kg  \\frac{m^2}{s^2}$ | Energy of particle moving inside box |\n",
    "| $n \\ge1 $ | n.a. | Particle's quantum number (energy level)|\n",
    "| $h$ | n.a. | Planck's constant |\n",
    "| $m \\gt0 $ | $kg$ | Particle mass |\n",
    "| $L \\gt0 $  | $m$  | Length of one dimensional box |"
   ]
  },
  {
   "cell_type": "code",
   "metadata": {
    "id": "po8_XI51lBa0",
    "pycharm": {
     "name": "#%%\n"
    }
   },
   "source": [
    "def particle_energy(particle_mass: float = None, box_length: float = None, quantum_number: int = None) -> float:\n",
    "    '''\n",
    "    Returns particle energy in joules, according to the \"Particle in a box\"-model of \n",
    "    quantum mechanics. For a particle with a specific mass (in kg), moving in a one dimensional box of \n",
    "    a certain length (in m), having a given quantum number (energy level).\n",
    "\n",
    "    :param particle_mass:  The mass of a given particle in kilograms > 0.\n",
    "    :param box_length:     The desired length of a one dimensional box in meters > 0.\n",
    "    :param quantum_number: A specific energy level >= 1, in which the chosen particle should exist in.\n",
    "    \n",
    "    :raises:               ValueError\n",
    "    \n",
    "    :returns:              The calculated energy, of the particle moving inside the box, in joules.\n",
    "    '''    \n",
    "    \n",
    "    if (particle_mass is None)  or (not isinstance(particle_mass, float)) or (particle_mass <= 0):\n",
    "        raise ValueError(\"Please specify a particle mass as a floating point number, greater than 0.\")\n",
    "    \n",
    "    if (box_length is None)     or (not isinstance(box_length, float))    or (box_length <= 0):\n",
    "        raise ValueError(\"Please specify a box length as a floating point number, greater than 0.\")\n",
    "    \n",
    "    if (quantum_number is None) or (not isinstance(quantum_number, int))  or (quantum_number < 1):\n",
    "        raise ValueError(\"Please specify a quantum number as an integer number, equal to or greater than 1.\")\n",
    "    \n",
    "    planck_constant = 6.62607015E-34\n",
    "\n",
    "    return (quantum_number**2 * planck_constant**2) / (8 * particle_mass * box_length**2)\n"
   ],
   "execution_count": 22,
   "outputs": []
  },
  {
   "cell_type": "markdown",
   "source": [
    "#### Task 2\n",
    "Goal:  apply the implemented equation to the same electron and one dimensional box, for the first ten energy levels."
   ],
   "metadata": {
    "collapsed": false,
    "pycharm": {
     "name": "#%% md\n"
    }
   }
  },
  {
   "cell_type": "code",
   "execution_count": 23,
   "outputs": [
    {
     "name": "stdout",
     "output_type": "stream",
     "text": [
      "Energy of an electron with particle mass 9.11e-31 kg, inside a box of length 1e-09 m:\n",
      "\n",
      "Quantum number of 1: 6.024259828858537e-20 J\n",
      "Quantum number of 2: 2.4097039315434146e-19 J\n",
      "Quantum number of 3: 5.421833845972683e-19 J\n",
      "Quantum number of 4: 9.638815726173658e-19 J\n",
      "Quantum number of 5: 1.5060649572146343e-18 J\n",
      "Quantum number of 6: 2.1687335383890732e-18 J\n",
      "Quantum number of 7: 2.951887316140683e-18 J\n",
      "Quantum number of 8: 3.855526290469463e-18 J\n",
      "Quantum number of 9: 4.879650461375415e-18 J\n",
      "Quantum number of 10: 6.024259828858537e-18 J\n"
     ]
    }
   ],
   "source": [
    "electron_mass = 9.11E-31\n",
    "box_length    = 1.0E-9\n",
    "\n",
    "print(f'Energy of an electron with particle mass {electron_mass} kg, inside a box of length {box_length} m:\\n')\n",
    "\n",
    "for quantum_number in range(1, 11):\n",
    "    energy = particle_energy(electron_mass, box_length, quantum_number) \n",
    "    print(f'Quantum number of {quantum_number}: {energy} J')\n",
    "\n",
    "\n",
    "    "
   ],
   "metadata": {
    "collapsed": false,
    "pycharm": {
     "name": "#%%\n"
    }
   }
  }
 ]
}