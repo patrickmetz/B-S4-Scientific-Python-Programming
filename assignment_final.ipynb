{
 "cells": [
  {
   "cell_type": "markdown",
   "metadata": {
    "collapsed": true,
    "pycharm": {
     "name": "#%% md\n"
    }
   },
   "source": [
    "# <center> Scientific Programming with Python\n",
    "## <center> Final assignment: Life Expectancy"
   ]
  },
  {
   "cell_type": "markdown",
   "source": [
    "**Author:** Patrick Metz (pmetz2s; 9033945)  \n",
    "**Date:** June 28th, 2021\n",
    "\n",
    "### Task 1\n",
    "**Goal**: use the pandas library to import life expectancy data<sup>1</sup> from a given \n",
    "csv file into a dataframe, while removing incomplete rows. The data spans most years from \n",
    "1960 to 2018 and is constructed as follows:\n",
    "\n",
    "|Country Name|Country Code|Region|Income Group|1960|1961|...|1969|1976|...|1994|2000|...|2018|\n",
    "| :--- | :--- | :--- | :--- | :--- | :--- | :--- | :--- | :--- | :--- | :--- | :--- | :--- | :--- |\n",
    "|Country 1|...|...|...|...|...|...|...|...|...|...|...|...|...|\n",
    "|Country 2|...|...|...|...|...|...|...|...|...|...|...|...|...|\n",
    "|⋮|⋮|⋮|⋮|⋮|⋮|⋮|⋮|⋮|⋮|⋮|⋮|⋮|⋮|\n",
    "|Country n-1|...|...|...|...|...|...|...|...|...|...|...|...|...|\n",
    "|Country n|...|...|...|...|...|...|...|...|...|...|...|...|...|\n",
    "\n",
    "**Missing data**: As depicted, data of the years from 1970 to 1975 and from 1995 to 1999 \n",
    "is missing.\n",
    "\n",
    "**Data types**: The data type of the year columns is *float*. The other columns possess \n",
    "*string* type.\n",
    "\n",
    "**Reference**: 1) Life expectancy at birth, total (years) | Data (2021). Available online \n",
    "at https://data.worldbank.org/indicator/SP.DYN.LE00.IN, checked on 6/1/2021."
   ],
   "metadata": {
    "collapsed": false,
    "pycharm": {
     "name": "#%% md\n"
    }
   }
  },
  {
   "cell_type": "code",
   "execution_count": 1,
   "outputs": [
    {
     "data": {
      "text/plain": "             Country_Name Country_Code                      Region  \\\n0                   Aruba          ABW   Latin America & Caribbean   \n1             Afghanistan          AFG                  South Asia   \n2                  Angola          AGO          Sub-Saharan Africa   \n3                 Albania          ALB       Europe & Central Asia   \n5    United Arab Emirates          ARE  Middle East & North Africa   \n..                    ...          ...                         ...   \n211                 Samoa          WSM         East Asia & Pacific   \n213           Yemen, Rep.          YEM  Middle East & North Africa   \n214          South Africa          ZAF          Sub-Saharan Africa   \n215                Zambia          ZMB          Sub-Saharan Africa   \n216              Zimbabwe          ZWE          Sub-Saharan Africa   \n\n    Income_Group    1960    1961    1962    1963    1964    1965  ...    2009  \\\n0           high  65.662  66.074  66.444  66.787  67.113  67.435  ...  74.872   \n1            low  32.446  32.962  33.471  33.971  34.463  34.948  ...  60.484   \n2     middle low  37.524  37.811  38.113  38.430  38.760  39.102  ...  54.311   \n3    middle high  62.283  63.301  64.190  64.914  65.463  65.850  ...  76.221   \n5           high  51.537  52.560  53.573  54.572  55.555  56.523  ...  76.145   \n..           ...     ...     ...     ...     ...     ...     ...  ...     ...   \n211  middle high  56.902  57.188  57.472  57.756  58.045  58.340  ...  71.412   \n213          low  29.919  30.163  30.500  30.943  31.501  32.175  ...  65.255   \n214  middle high  48.406  48.777  49.142  49.509  49.888  50.284  ...  56.460   \n215   middle low  46.687  47.084  47.446  47.772  48.068  48.351  ...  54.130   \n216   middle low  53.019  53.483  53.946  54.403  54.849  55.274  ...  48.449   \n\n       2010    2011    2012    2013    2014    2015    2016    2017    2018  \n0    75.017  75.158  75.299  75.441  75.583  75.725  75.868  76.010  76.152  \n1    61.028  61.553  62.054  62.525  62.966  63.377  63.763  64.130  64.486  \n2    55.350  56.330  57.236  58.054  58.776  59.398  59.925  60.379  60.782  \n3    76.562  76.914  77.252  77.554  77.813  78.025  78.194  78.333  78.458  \n5    76.332  76.521  76.711  76.903  77.095  77.285  77.470  77.647  77.814  \n..      ...     ...     ...     ...     ...     ...     ...     ...     ...  \n211  71.663  71.906  72.136  72.351  72.549  72.730  72.895  73.046  73.187  \n213  65.549  65.768  65.920  66.016  66.066  66.085  66.087  66.086  66.096  \n214  57.669  58.895  60.060  61.099  61.968  62.649  63.153  63.538  63.857  \n215  55.655  57.126  58.502  59.746  60.831  61.737  62.464  63.043  63.510  \n216  50.640  52.896  55.032  56.897  58.410  59.534  60.294  60.812  61.195  \n\n[189 rows x 52 columns]",
      "text/html": "<div>\n<style scoped>\n    .dataframe tbody tr th:only-of-type {\n        vertical-align: middle;\n    }\n\n    .dataframe tbody tr th {\n        vertical-align: top;\n    }\n\n    .dataframe thead th {\n        text-align: right;\n    }\n</style>\n<table border=\"1\" class=\"dataframe\">\n  <thead>\n    <tr style=\"text-align: right;\">\n      <th></th>\n      <th>Country_Name</th>\n      <th>Country_Code</th>\n      <th>Region</th>\n      <th>Income_Group</th>\n      <th>1960</th>\n      <th>1961</th>\n      <th>1962</th>\n      <th>1963</th>\n      <th>1964</th>\n      <th>1965</th>\n      <th>...</th>\n      <th>2009</th>\n      <th>2010</th>\n      <th>2011</th>\n      <th>2012</th>\n      <th>2013</th>\n      <th>2014</th>\n      <th>2015</th>\n      <th>2016</th>\n      <th>2017</th>\n      <th>2018</th>\n    </tr>\n  </thead>\n  <tbody>\n    <tr>\n      <th>0</th>\n      <td>Aruba</td>\n      <td>ABW</td>\n      <td>Latin America &amp; Caribbean</td>\n      <td>high</td>\n      <td>65.662</td>\n      <td>66.074</td>\n      <td>66.444</td>\n      <td>66.787</td>\n      <td>67.113</td>\n      <td>67.435</td>\n      <td>...</td>\n      <td>74.872</td>\n      <td>75.017</td>\n      <td>75.158</td>\n      <td>75.299</td>\n      <td>75.441</td>\n      <td>75.583</td>\n      <td>75.725</td>\n      <td>75.868</td>\n      <td>76.010</td>\n      <td>76.152</td>\n    </tr>\n    <tr>\n      <th>1</th>\n      <td>Afghanistan</td>\n      <td>AFG</td>\n      <td>South Asia</td>\n      <td>low</td>\n      <td>32.446</td>\n      <td>32.962</td>\n      <td>33.471</td>\n      <td>33.971</td>\n      <td>34.463</td>\n      <td>34.948</td>\n      <td>...</td>\n      <td>60.484</td>\n      <td>61.028</td>\n      <td>61.553</td>\n      <td>62.054</td>\n      <td>62.525</td>\n      <td>62.966</td>\n      <td>63.377</td>\n      <td>63.763</td>\n      <td>64.130</td>\n      <td>64.486</td>\n    </tr>\n    <tr>\n      <th>2</th>\n      <td>Angola</td>\n      <td>AGO</td>\n      <td>Sub-Saharan Africa</td>\n      <td>middle low</td>\n      <td>37.524</td>\n      <td>37.811</td>\n      <td>38.113</td>\n      <td>38.430</td>\n      <td>38.760</td>\n      <td>39.102</td>\n      <td>...</td>\n      <td>54.311</td>\n      <td>55.350</td>\n      <td>56.330</td>\n      <td>57.236</td>\n      <td>58.054</td>\n      <td>58.776</td>\n      <td>59.398</td>\n      <td>59.925</td>\n      <td>60.379</td>\n      <td>60.782</td>\n    </tr>\n    <tr>\n      <th>3</th>\n      <td>Albania</td>\n      <td>ALB</td>\n      <td>Europe &amp; Central Asia</td>\n      <td>middle high</td>\n      <td>62.283</td>\n      <td>63.301</td>\n      <td>64.190</td>\n      <td>64.914</td>\n      <td>65.463</td>\n      <td>65.850</td>\n      <td>...</td>\n      <td>76.221</td>\n      <td>76.562</td>\n      <td>76.914</td>\n      <td>77.252</td>\n      <td>77.554</td>\n      <td>77.813</td>\n      <td>78.025</td>\n      <td>78.194</td>\n      <td>78.333</td>\n      <td>78.458</td>\n    </tr>\n    <tr>\n      <th>5</th>\n      <td>United Arab Emirates</td>\n      <td>ARE</td>\n      <td>Middle East &amp; North Africa</td>\n      <td>high</td>\n      <td>51.537</td>\n      <td>52.560</td>\n      <td>53.573</td>\n      <td>54.572</td>\n      <td>55.555</td>\n      <td>56.523</td>\n      <td>...</td>\n      <td>76.145</td>\n      <td>76.332</td>\n      <td>76.521</td>\n      <td>76.711</td>\n      <td>76.903</td>\n      <td>77.095</td>\n      <td>77.285</td>\n      <td>77.470</td>\n      <td>77.647</td>\n      <td>77.814</td>\n    </tr>\n    <tr>\n      <th>...</th>\n      <td>...</td>\n      <td>...</td>\n      <td>...</td>\n      <td>...</td>\n      <td>...</td>\n      <td>...</td>\n      <td>...</td>\n      <td>...</td>\n      <td>...</td>\n      <td>...</td>\n      <td>...</td>\n      <td>...</td>\n      <td>...</td>\n      <td>...</td>\n      <td>...</td>\n      <td>...</td>\n      <td>...</td>\n      <td>...</td>\n      <td>...</td>\n      <td>...</td>\n      <td>...</td>\n    </tr>\n    <tr>\n      <th>211</th>\n      <td>Samoa</td>\n      <td>WSM</td>\n      <td>East Asia &amp; Pacific</td>\n      <td>middle high</td>\n      <td>56.902</td>\n      <td>57.188</td>\n      <td>57.472</td>\n      <td>57.756</td>\n      <td>58.045</td>\n      <td>58.340</td>\n      <td>...</td>\n      <td>71.412</td>\n      <td>71.663</td>\n      <td>71.906</td>\n      <td>72.136</td>\n      <td>72.351</td>\n      <td>72.549</td>\n      <td>72.730</td>\n      <td>72.895</td>\n      <td>73.046</td>\n      <td>73.187</td>\n    </tr>\n    <tr>\n      <th>213</th>\n      <td>Yemen, Rep.</td>\n      <td>YEM</td>\n      <td>Middle East &amp; North Africa</td>\n      <td>low</td>\n      <td>29.919</td>\n      <td>30.163</td>\n      <td>30.500</td>\n      <td>30.943</td>\n      <td>31.501</td>\n      <td>32.175</td>\n      <td>...</td>\n      <td>65.255</td>\n      <td>65.549</td>\n      <td>65.768</td>\n      <td>65.920</td>\n      <td>66.016</td>\n      <td>66.066</td>\n      <td>66.085</td>\n      <td>66.087</td>\n      <td>66.086</td>\n      <td>66.096</td>\n    </tr>\n    <tr>\n      <th>214</th>\n      <td>South Africa</td>\n      <td>ZAF</td>\n      <td>Sub-Saharan Africa</td>\n      <td>middle high</td>\n      <td>48.406</td>\n      <td>48.777</td>\n      <td>49.142</td>\n      <td>49.509</td>\n      <td>49.888</td>\n      <td>50.284</td>\n      <td>...</td>\n      <td>56.460</td>\n      <td>57.669</td>\n      <td>58.895</td>\n      <td>60.060</td>\n      <td>61.099</td>\n      <td>61.968</td>\n      <td>62.649</td>\n      <td>63.153</td>\n      <td>63.538</td>\n      <td>63.857</td>\n    </tr>\n    <tr>\n      <th>215</th>\n      <td>Zambia</td>\n      <td>ZMB</td>\n      <td>Sub-Saharan Africa</td>\n      <td>middle low</td>\n      <td>46.687</td>\n      <td>47.084</td>\n      <td>47.446</td>\n      <td>47.772</td>\n      <td>48.068</td>\n      <td>48.351</td>\n      <td>...</td>\n      <td>54.130</td>\n      <td>55.655</td>\n      <td>57.126</td>\n      <td>58.502</td>\n      <td>59.746</td>\n      <td>60.831</td>\n      <td>61.737</td>\n      <td>62.464</td>\n      <td>63.043</td>\n      <td>63.510</td>\n    </tr>\n    <tr>\n      <th>216</th>\n      <td>Zimbabwe</td>\n      <td>ZWE</td>\n      <td>Sub-Saharan Africa</td>\n      <td>middle low</td>\n      <td>53.019</td>\n      <td>53.483</td>\n      <td>53.946</td>\n      <td>54.403</td>\n      <td>54.849</td>\n      <td>55.274</td>\n      <td>...</td>\n      <td>48.449</td>\n      <td>50.640</td>\n      <td>52.896</td>\n      <td>55.032</td>\n      <td>56.897</td>\n      <td>58.410</td>\n      <td>59.534</td>\n      <td>60.294</td>\n      <td>60.812</td>\n      <td>61.195</td>\n    </tr>\n  </tbody>\n</table>\n<p>189 rows × 52 columns</p>\n</div>"
     },
     "execution_count": 1,
     "metadata": {},
     "output_type": "execute_result"
    }
   ],
   "source": [
    "import pandas as pd\n",
    "\n",
    "data_frame = pd.read_csv(\"life_expectancy_numpy_scipy.csv\").dropna() # only fetch complete data"
   ],
   "metadata": {
    "collapsed": false,
    "pycharm": {
     "name": "#%%\n"
    }
   }
  }
 ],
 "metadata": {
  "kernelspec": {
   "display_name": "Python 3",
   "language": "python",
   "name": "python3"
  },
  "language_info": {
   "codemirror_mode": {
    "name": "ipython",
    "version": 2
   },
   "file_extension": ".py",
   "mimetype": "text/x-python",
   "name": "python",
   "nbconvert_exporter": "python",
   "pygments_lexer": "ipython2",
   "version": "2.7.6"
  }
 },
 "nbformat": 4,
 "nbformat_minor": 0
}