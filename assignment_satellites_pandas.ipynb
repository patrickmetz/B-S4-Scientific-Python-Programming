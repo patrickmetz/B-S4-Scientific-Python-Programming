{
 "cells": [
  {
   "cell_type": "markdown",
   "metadata": {
    "collapsed": true,
    "pycharm": {
     "name": "#%% md\n"
    }
   },
   "source": [
    "# <center> Scientific Programming with Python\n",
    "## <center> Assignment: Planet Satellites"
   ]
  },
  {
   "cell_type": "markdown",
   "source": [
    "**Author:** Patrick Metz (pmetz2s; 9033945)  \n",
    "**Date:** June 4th, 2021\n",
    "\n",
    "#### Task 1\n",
    "*Goal*: use pandas library to import satellite data from four given csv files into a single \n",
    "dataframe, while removing incomplete rows and adding a planet name column. The files \n",
    "contain the following data about the satellites of Saturn, Jupiter, Uranus and Earth:\n",
    "\n",
    "| satellite attribute (measure) | data type<sup>1</sup> | least sig figs | least decimals | meaning |\n",
    "| :--- | :--- | :--- | :--- | :--- |\n",
    "| Name | string | n.a. | n.a. | satellite's name|\n",
    "| Semimajor Axis (km) | float | 6 | 5 | orbital diameter of path's major axis|\n",
    "| Period (days) | float | 3 | 2 | time for one orbit around the planet |\n",
    "| Eccentricity | float | 1 | 2 |  circularity of orbit, between 0 (circle) and 1 (ellipse) |\n",
    "| Inclination (deg) | float | 1 | 2 | tilt of orbit |\n",
    "| Mean Diameter (km) | float | 2 | 1 | average size |\n",
    "| Mass (kg) | float | 2 | 1 |  weight |\n",
    "\n",
    "<sup>__1__</sup>: For the given csv files pandas correctly determines appropriate data \n",
    "types. So no extra conversion is needed."
   ],
   "metadata": {
    "collapsed": false
   }
  },
  {
   "cell_type": "code",
   "execution_count": 16,
   "outputs": [],
   "source": [
    "import pandas as pd\n",
    "\n",
    "satellites = pd.DataFrame()\n",
    "csv_files = {\"Earth\": 'earth_satellites.csv', \"Jupiter\": 'jupiter_satellites.csv',\n",
    "             \"Saturn\": 'saturn_satellites.csv', \"Uranus\": 'uranus_satellites.csv'}\n",
    "\n",
    "for (planet_name, csv_file) in csv_files.items():\n",
    "    data_frame = pd.read_csv(csv_file).dropna()                   # only read in complete data\n",
    "    data_frame[\"Planet\"] = planet_name\n",
    "    satellites = satellites.append(data_frame, ignore_index=True) # append with consistent index"
   ],
   "metadata": {
    "collapsed": false,
    "pycharm": {
     "name": "#%%\n"
    }
   }
  },
  {
   "cell_type": "markdown",
   "source": [
    "#### Task 2\n",
    "*Goal*: identify the largest and smallest satellite diameters from the planet data."
   ],
   "metadata": {
    "collapsed": false,
    "pycharm": {
     "name": "#%% md\n"
    }
   }
  },
  {
   "cell_type": "code",
   "execution_count": 17,
   "outputs": [
    {
     "name": "stdout",
     "output_type": "stream",
     "text": [
      "Concerning diameter...\n",
      "...the smallest satellite is 2.8 km.\n",
      "...the largest satellite is 10536.4 km.\n"
     ]
    }
   ],
   "source": [
    "diameter = satellites[\"Mean Diameter (km)\"]\n",
    "\n",
    "print(\"Concerning diameter...\")\n",
    "print(\"...the smallest satellite is %.1f km.\" % diameter.min()) # round for least numerical info\n",
    "print(\"...the largest satellite is %.1f km.\" % diameter.max())"
   ],
   "metadata": {
    "collapsed": false,
    "pycharm": {
     "name": "#%%\n"
    }
   }
  },
  {
   "cell_type": "markdown",
   "source": [
    "#### Task 3\n",
    "###### Goal\n",
    "\n",
    "Create a correlation matrix, based on Pearson's method, of the planet data's \n",
    "numerical columns. Also comment on the correlation between the semimajor axis and the \n",
    "orbital period. \n",
    "\n",
    "###### Comment\n",
    "The resulting correlation coefficient between the two mentioned attributes \n",
    "reaching 1, indicates a strong positive linear dependency between those. This statistically \n",
    "shows, that one of the attributes grows, when the other one grows and that it shrinks when \n",
    "the other one shrinks. Or bluntly put: the bigger/smaller the semimajor axis, the \n",
    "longer/shorter the orbital period.\n",
    "\n",
    "###### Pearson's correlation coefficient\n",
    "Is applied to each pair of columns\n",
    "([Source: Wikipedia](https://en.wikipedia.org/wiki/Pearson_correlation_coefficient#Definition)):\n",
    "\n",
    "$ {\\displaystyle \\rho _{X,Y}={\\frac {\\operatorname {\\mathbb {E} } \n",
    "  [(X-\\mu _{X})(Y-\\mu _{Y})]}{\\sigma _{X}\\sigma _{Y}}}} $\n",
    "\n",
    "###### Source Code\n",
    "https://stackoverflow.com/q/12725417"
   ],
   "metadata": {
    "collapsed": false
   }
  },
  {
   "cell_type": "code",
   "execution_count": 18,
   "outputs": [
    {
     "data": {
      "text/plain": "                     Semimajor Axis (km)  Period (days)  Eccentricity  \\\nSemimajor Axis (km)                  1.0            1.0           0.9   \nPeriod (days)                        1.0            1.0           0.9   \nEccentricity                         0.9            0.9           1.0   \nInclination (deg)                    1.0            1.0           0.9   \nMean Diameter (km)                   0.0           -0.1          -0.1   \nMass (kg)                           -0.0           -0.1           0.1   \n\n                     Inclination (deg)  Mean Diameter (km)  Mass (kg)  \nSemimajor Axis (km)                1.0                 0.0       -0.0  \nPeriod (days)                      1.0                -0.1       -0.1  \nEccentricity                       0.9                -0.1        0.1  \nInclination (deg)                  1.0                -0.1       -0.1  \nMean Diameter (km)                -0.1                 1.0        0.7  \nMass (kg)                         -0.1                 0.7        1.0  ",
      "text/html": "<div>\n<style scoped>\n    .dataframe tbody tr th:only-of-type {\n        vertical-align: middle;\n    }\n\n    .dataframe tbody tr th {\n        vertical-align: top;\n    }\n\n    .dataframe thead th {\n        text-align: right;\n    }\n</style>\n<table border=\"1\" class=\"dataframe\">\n  <thead>\n    <tr style=\"text-align: right;\">\n      <th></th>\n      <th>Semimajor Axis (km)</th>\n      <th>Period (days)</th>\n      <th>Eccentricity</th>\n      <th>Inclination (deg)</th>\n      <th>Mean Diameter (km)</th>\n      <th>Mass (kg)</th>\n    </tr>\n  </thead>\n  <tbody>\n    <tr>\n      <th>Semimajor Axis (km)</th>\n      <td>1.0</td>\n      <td>1.0</td>\n      <td>0.9</td>\n      <td>1.0</td>\n      <td>0.0</td>\n      <td>-0.0</td>\n    </tr>\n    <tr>\n      <th>Period (days)</th>\n      <td>1.0</td>\n      <td>1.0</td>\n      <td>0.9</td>\n      <td>1.0</td>\n      <td>-0.1</td>\n      <td>-0.1</td>\n    </tr>\n    <tr>\n      <th>Eccentricity</th>\n      <td>0.9</td>\n      <td>0.9</td>\n      <td>1.0</td>\n      <td>0.9</td>\n      <td>-0.1</td>\n      <td>0.1</td>\n    </tr>\n    <tr>\n      <th>Inclination (deg)</th>\n      <td>1.0</td>\n      <td>1.0</td>\n      <td>0.9</td>\n      <td>1.0</td>\n      <td>-0.1</td>\n      <td>-0.1</td>\n    </tr>\n    <tr>\n      <th>Mean Diameter (km)</th>\n      <td>0.0</td>\n      <td>-0.1</td>\n      <td>-0.1</td>\n      <td>-0.1</td>\n      <td>1.0</td>\n      <td>0.7</td>\n    </tr>\n    <tr>\n      <th>Mass (kg)</th>\n      <td>-0.0</td>\n      <td>-0.1</td>\n      <td>0.1</td>\n      <td>-0.1</td>\n      <td>0.7</td>\n      <td>1.0</td>\n    </tr>\n  </tbody>\n</table>\n</div>"
     },
     "execution_count": 18,
     "metadata": {},
     "output_type": "execute_result"
    }
   ],
   "source": [
    "# only use numerical data and round according to least available amount of numerical information\n",
    "matrix = satellites.select_dtypes(\"number\").corr(method=\"pearson\").round(1) \n",
    "matrix"
   ],
   "metadata": {
    "collapsed": false,
    "pycharm": {
     "name": "#%%\n"
    }
   }
  },
  {
   "cell_type": "markdown",
   "source": [
    "#### Task 4\n",
    "Goal: plot bar graphs, containing the satellites' names on the x-axis, and their mass and\n",
    "mean diameter on the y-axis."
   ],
   "metadata": {
    "collapsed": false
   }
  },
  {
   "cell_type": "code",
   "execution_count": 19,
   "outputs": [
    {
     "data": {
      "text/plain": "array([<AxesSubplot:title={'center':'Mass (kg)'}, xlabel='Name'>,\n       <AxesSubplot:title={'center':'Mean Diameter (km)'}, xlabel='Name'>],\n      dtype=object)"
     },
     "execution_count": 19,
     "metadata": {},
     "output_type": "execute_result"
    },
    {
     "data": {
      "text/plain": "<Figure size 720x360 with 2 Axes>",
      "image/png": "[encoded data removed]"
     },
     "metadata": {
      "needs_background": "light"
     },
     "output_type": "display_data"
    }
   ],
   "source": [
    "satellites.sort_values(by=[\"Name\"]).plot(                     # plot sorted for usability\n",
    "    title=\"Satellites of Earth, Jupiter, Saturn and Uranus:\",\n",
    "    x=\"Name\", y=[\"Mass (kg)\", \"Mean Diameter (km)\"],\n",
    "    kind=\"bar\", \n",
    "    grid=True,\n",
    "    subplots=True,                                            # show plot for each y-axis\n",
    "    figsize=(10,5),                                           # set size for readability\n",
    "    fontsize=12)        "
   ],
   "metadata": {
    "collapsed": false,
    "pycharm": {
     "name": "#%%\n"
    }
   }
  },
  {
   "cell_type": "markdown",
   "source": [
    "#### Task 5\n",
    "*Goal*: sort the satellites' data according to their orbital periods."
   ],
   "metadata": {
    "collapsed": false
   }
  },
  {
   "cell_type": "code",
   "execution_count": 20,
   "outputs": [],
   "source": [
    "satellites = satellites.sort_values(by=[\"Period (days)\"])"
   ],
   "metadata": {
    "collapsed": false,
    "pycharm": {
     "name": "#%%\n"
    }
   }
  },
  {
   "cell_type": "markdown",
   "source": [
    "#### Task 6\n",
    "*Goal*: store the satellite data's current state into a csv file."
   ],
   "metadata": {
    "collapsed": false
   }
  },
  {
   "cell_type": "code",
   "execution_count": 21,
   "outputs": [],
   "source": [
    "satellites.to_csv(\"./satellites_sorted_by_period.csv\", index=False) # don't save index column"
   ],
   "metadata": {
    "collapsed": false,
    "pycharm": {
     "name": "#%%\n"
    }
   }
  }
 ],
 "metadata": {
  "kernelspec": {
   "display_name": "Python 3",
   "language": "python",
   "name": "python3"
  },
  "language_info": {
   "codemirror_mode": {
    "name": "ipython",
    "version": 2
   },
   "file_extension": ".py",
   "mimetype": "text/x-python",
   "name": "python",
   "nbconvert_exporter": "python",
   "pygments_lexer": "ipython2",
   "version": "2.7.6"
  }
 },
 "nbformat": 4,
 "nbformat_minor": 0
}