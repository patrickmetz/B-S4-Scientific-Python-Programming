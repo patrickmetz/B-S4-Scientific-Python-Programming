{
 "cells": [
  {
   "cell_type": "code",
   "execution_count": 38,
   "outputs": [],
   "source": [
    "import pandas as pd"
   ],
   "metadata": {
    "collapsed": false,
    "pycharm": {
     "name": "#%%\n"
    }
   }
  },
  {
   "cell_type": "markdown",
   "metadata": {
    "collapsed": true,
    "pycharm": {
     "name": "#%% md\n"
    }
   },
   "source": [
    "# <center> Scientific Programming with Python\n",
    "## <center> Assignment: Planet Satellites"
   ]
  },
  {
   "cell_type": "markdown",
   "source": [
    "**Author:** Patrick Metz (pmetz2s; 9033945)  \n",
    "**Date:** June 4th, 2021\n",
    "\n",
    "#### Task 1\n",
    "Goal: Import planet data from four given csv files into a single dataframe, while\n",
    "removing incomplete rows and adding a planet name column. The files contain the following \n",
    "data about the satellites of Saturn, Jupiter, Uranus and Earth:\n",
    "\n",
    "| satellite attribute | measured in | type | least significant figures | meaning |\n",
    "| :--- | :--- | :--- | :--- | :--- |\n",
    "| name | n.a. | quoted / string | n.a. | satellite's name|\n",
    "| semimajor axis | km | float | 6 | orbital diameter of path's major axis|\n",
    "| period | days | float | 3 | time for one orbit around Saturn |\n",
    "| eccentricity | n.a. | float | 1 | circularity of orbit, between 0 (circle) and 1 (ellipse) |\n",
    "| inclination | degrees | float | 1 | tilt of orbit |\n",
    "| mean diameter | km | float | 2 | average size |\n",
    "| mass | kg | float | 3 | weight |"
   ],
   "metadata": {
    "collapsed": false
   }
  },
  {
   "cell_type": "code",
   "execution_count": 41,
   "outputs": [
    {
     "data": {
      "text/plain": "          Name  Semimajor Axis (km)  Period (days)  Eccentricity  \\\n0         Moon             384399.0      27.321700       0.05490   \n1           Io             421800.0       1.769000       0.00400   \n2       Europa             670900.0       3.551810       0.01010   \n3     Ganymede            1070000.0       7.154553       0.00150   \n4     Callisto            1883000.0      16.689018       0.00700   \n5          Pan             133584.0       0.575000       0.00001   \n6      Daphnis             136504.0       0.594000       0.00003   \n7        Atlas             137666.0       0.602000       0.00120   \n8   Prometheus             139378.0       0.613000       0.00220   \n9      Pandora             141713.0       0.629000       0.00420   \n10  Epimetheus             151452.0       0.695000       0.00970   \n11       Janus             151452.0       0.695000       0.00680   \n12       Mimas             185537.0       0.942000       0.01960   \n13     Methone             194230.0       1.010000       0.01000   \n14     Pallene             212283.0       1.154000       0.00400   \n15   Enceladus             238037.0       1.370000       0.00470   \n16      Tethys             294672.0       1.888000       0.00010   \n17       Dione             377400.0       2.737000       0.00220   \n18        Rhea             527070.0       4.518000       0.00100   \n19       Titan            1221865.0      15.950000       0.02880   \n20    Hyperion            1500934.0      21.280000       0.02320   \n21     Iapetus            3560851.0      79.330000       0.02930   \n22      Phoebe           12948000.0     548.020000       0.16350   \n23     Miranda             129858.0       1.413000       0.00135   \n24       Ariel             190930.0       2.520000       0.00122   \n25     Umbriel             265982.0       4.144000       0.00394   \n26     Titania             436282.0       8.796000       0.00123   \n27      Oberon             583449.0      13.463000       0.00140   \n\n    Inclination (deg)  Mean Diameter (km)     Mass (kg)   Planet  \n0              5.1450              3474.8  7.346000e+22    Earth  \n1              0.0400              7272.4  8.930000e+22  Jupiter  \n2              0.4700              6242.8  4.800000e+22  Jupiter  \n3              0.1950             10536.4  4.810000e+22  Jupiter  \n4              0.2810              9637.6  4.820000e+22  Jupiter  \n5              0.0001                28.0  4.950000e+15   Saturn  \n6              0.0036                 7.6  7.700000e+13   Saturn  \n7              0.0030                30.2  6.600000e+15   Saturn  \n8              0.0070                84.2  1.590000e+17   Saturn  \n9              0.0500                81.4  1.370000e+17   Saturn  \n10             0.3520               116.2  5.270000e+17   Saturn  \n11             0.1640               178.0  1.900000e+18   Saturn  \n12             1.5650               396.0  3.750000e+19   Saturn  \n13             0.0100                 2.8  3.920000e+15   Saturn  \n14             0.1800                 4.4  1.150000e+16   Saturn  \n15             0.0090               504.0  1.080000e+20   Saturn  \n16             1.0910              1066.0  6.170000e+20   Saturn  \n17             0.0280              1123.0  1.100000e+21   Saturn  \n18             0.3600              1529.0  2.310000e+21   Saturn  \n19             0.3120              5151.0  1.350000e+23   Saturn  \n20             0.6150               266.0  5.580000e+18   Saturn  \n21             8.3130              1471.0  1.810000e+21   Saturn  \n22           175.2430               213.0  8.290000e+18   Saturn  \n23             4.4072               474.0  6.590000e+19   Uranus  \n24             0.0167              1159.0  1.660000e+20   Uranus  \n25             0.0796              1170.0  2.660000e+20   Uranus  \n26             0.1129              1578.0  3.660000e+20   Uranus  \n27             0.1478              1522.0  4.660000e+20   Uranus  ",
      "text/html": "<div>\n<style scoped>\n    .dataframe tbody tr th:only-of-type {\n        vertical-align: middle;\n    }\n\n    .dataframe tbody tr th {\n        vertical-align: top;\n    }\n\n    .dataframe thead th {\n        text-align: right;\n    }\n</style>\n<table border=\"1\" class=\"dataframe\">\n  <thead>\n    <tr style=\"text-align: right;\">\n      <th></th>\n      <th>Name</th>\n      <th>Semimajor Axis (km)</th>\n      <th>Period (days)</th>\n      <th>Eccentricity</th>\n      <th>Inclination (deg)</th>\n      <th>Mean Diameter (km)</th>\n      <th>Mass (kg)</th>\n      <th>Planet</th>\n    </tr>\n  </thead>\n  <tbody>\n    <tr>\n      <th>0</th>\n      <td>Moon</td>\n      <td>384399.0</td>\n      <td>27.321700</td>\n      <td>0.05490</td>\n      <td>5.1450</td>\n      <td>3474.8</td>\n      <td>7.346000e+22</td>\n      <td>Earth</td>\n    </tr>\n    <tr>\n      <th>1</th>\n      <td>Io</td>\n      <td>421800.0</td>\n      <td>1.769000</td>\n      <td>0.00400</td>\n      <td>0.0400</td>\n      <td>7272.4</td>\n      <td>8.930000e+22</td>\n      <td>Jupiter</td>\n    </tr>\n    <tr>\n      <th>2</th>\n      <td>Europa</td>\n      <td>670900.0</td>\n      <td>3.551810</td>\n      <td>0.01010</td>\n      <td>0.4700</td>\n      <td>6242.8</td>\n      <td>4.800000e+22</td>\n      <td>Jupiter</td>\n    </tr>\n    <tr>\n      <th>3</th>\n      <td>Ganymede</td>\n      <td>1070000.0</td>\n      <td>7.154553</td>\n      <td>0.00150</td>\n      <td>0.1950</td>\n      <td>10536.4</td>\n      <td>4.810000e+22</td>\n      <td>Jupiter</td>\n    </tr>\n    <tr>\n      <th>4</th>\n      <td>Callisto</td>\n      <td>1883000.0</td>\n      <td>16.689018</td>\n      <td>0.00700</td>\n      <td>0.2810</td>\n      <td>9637.6</td>\n      <td>4.820000e+22</td>\n      <td>Jupiter</td>\n    </tr>\n    <tr>\n      <th>5</th>\n      <td>Pan</td>\n      <td>133584.0</td>\n      <td>0.575000</td>\n      <td>0.00001</td>\n      <td>0.0001</td>\n      <td>28.0</td>\n      <td>4.950000e+15</td>\n      <td>Saturn</td>\n    </tr>\n    <tr>\n      <th>6</th>\n      <td>Daphnis</td>\n      <td>136504.0</td>\n      <td>0.594000</td>\n      <td>0.00003</td>\n      <td>0.0036</td>\n      <td>7.6</td>\n      <td>7.700000e+13</td>\n      <td>Saturn</td>\n    </tr>\n    <tr>\n      <th>7</th>\n      <td>Atlas</td>\n      <td>137666.0</td>\n      <td>0.602000</td>\n      <td>0.00120</td>\n      <td>0.0030</td>\n      <td>30.2</td>\n      <td>6.600000e+15</td>\n      <td>Saturn</td>\n    </tr>\n    <tr>\n      <th>8</th>\n      <td>Prometheus</td>\n      <td>139378.0</td>\n      <td>0.613000</td>\n      <td>0.00220</td>\n      <td>0.0070</td>\n      <td>84.2</td>\n      <td>1.590000e+17</td>\n      <td>Saturn</td>\n    </tr>\n    <tr>\n      <th>9</th>\n      <td>Pandora</td>\n      <td>141713.0</td>\n      <td>0.629000</td>\n      <td>0.00420</td>\n      <td>0.0500</td>\n      <td>81.4</td>\n      <td>1.370000e+17</td>\n      <td>Saturn</td>\n    </tr>\n    <tr>\n      <th>10</th>\n      <td>Epimetheus</td>\n      <td>151452.0</td>\n      <td>0.695000</td>\n      <td>0.00970</td>\n      <td>0.3520</td>\n      <td>116.2</td>\n      <td>5.270000e+17</td>\n      <td>Saturn</td>\n    </tr>\n    <tr>\n      <th>11</th>\n      <td>Janus</td>\n      <td>151452.0</td>\n      <td>0.695000</td>\n      <td>0.00680</td>\n      <td>0.1640</td>\n      <td>178.0</td>\n      <td>1.900000e+18</td>\n      <td>Saturn</td>\n    </tr>\n    <tr>\n      <th>12</th>\n      <td>Mimas</td>\n      <td>185537.0</td>\n      <td>0.942000</td>\n      <td>0.01960</td>\n      <td>1.5650</td>\n      <td>396.0</td>\n      <td>3.750000e+19</td>\n      <td>Saturn</td>\n    </tr>\n    <tr>\n      <th>13</th>\n      <td>Methone</td>\n      <td>194230.0</td>\n      <td>1.010000</td>\n      <td>0.01000</td>\n      <td>0.0100</td>\n      <td>2.8</td>\n      <td>3.920000e+15</td>\n      <td>Saturn</td>\n    </tr>\n    <tr>\n      <th>14</th>\n      <td>Pallene</td>\n      <td>212283.0</td>\n      <td>1.154000</td>\n      <td>0.00400</td>\n      <td>0.1800</td>\n      <td>4.4</td>\n      <td>1.150000e+16</td>\n      <td>Saturn</td>\n    </tr>\n    <tr>\n      <th>15</th>\n      <td>Enceladus</td>\n      <td>238037.0</td>\n      <td>1.370000</td>\n      <td>0.00470</td>\n      <td>0.0090</td>\n      <td>504.0</td>\n      <td>1.080000e+20</td>\n      <td>Saturn</td>\n    </tr>\n    <tr>\n      <th>16</th>\n      <td>Tethys</td>\n      <td>294672.0</td>\n      <td>1.888000</td>\n      <td>0.00010</td>\n      <td>1.0910</td>\n      <td>1066.0</td>\n      <td>6.170000e+20</td>\n      <td>Saturn</td>\n    </tr>\n    <tr>\n      <th>17</th>\n      <td>Dione</td>\n      <td>377400.0</td>\n      <td>2.737000</td>\n      <td>0.00220</td>\n      <td>0.0280</td>\n      <td>1123.0</td>\n      <td>1.100000e+21</td>\n      <td>Saturn</td>\n    </tr>\n    <tr>\n      <th>18</th>\n      <td>Rhea</td>\n      <td>527070.0</td>\n      <td>4.518000</td>\n      <td>0.00100</td>\n      <td>0.3600</td>\n      <td>1529.0</td>\n      <td>2.310000e+21</td>\n      <td>Saturn</td>\n    </tr>\n    <tr>\n      <th>19</th>\n      <td>Titan</td>\n      <td>1221865.0</td>\n      <td>15.950000</td>\n      <td>0.02880</td>\n      <td>0.3120</td>\n      <td>5151.0</td>\n      <td>1.350000e+23</td>\n      <td>Saturn</td>\n    </tr>\n    <tr>\n      <th>20</th>\n      <td>Hyperion</td>\n      <td>1500934.0</td>\n      <td>21.280000</td>\n      <td>0.02320</td>\n      <td>0.6150</td>\n      <td>266.0</td>\n      <td>5.580000e+18</td>\n      <td>Saturn</td>\n    </tr>\n    <tr>\n      <th>21</th>\n      <td>Iapetus</td>\n      <td>3560851.0</td>\n      <td>79.330000</td>\n      <td>0.02930</td>\n      <td>8.3130</td>\n      <td>1471.0</td>\n      <td>1.810000e+21</td>\n      <td>Saturn</td>\n    </tr>\n    <tr>\n      <th>22</th>\n      <td>Phoebe</td>\n      <td>12948000.0</td>\n      <td>548.020000</td>\n      <td>0.16350</td>\n      <td>175.2430</td>\n      <td>213.0</td>\n      <td>8.290000e+18</td>\n      <td>Saturn</td>\n    </tr>\n    <tr>\n      <th>23</th>\n      <td>Miranda</td>\n      <td>129858.0</td>\n      <td>1.413000</td>\n      <td>0.00135</td>\n      <td>4.4072</td>\n      <td>474.0</td>\n      <td>6.590000e+19</td>\n      <td>Uranus</td>\n    </tr>\n    <tr>\n      <th>24</th>\n      <td>Ariel</td>\n      <td>190930.0</td>\n      <td>2.520000</td>\n      <td>0.00122</td>\n      <td>0.0167</td>\n      <td>1159.0</td>\n      <td>1.660000e+20</td>\n      <td>Uranus</td>\n    </tr>\n    <tr>\n      <th>25</th>\n      <td>Umbriel</td>\n      <td>265982.0</td>\n      <td>4.144000</td>\n      <td>0.00394</td>\n      <td>0.0796</td>\n      <td>1170.0</td>\n      <td>2.660000e+20</td>\n      <td>Uranus</td>\n    </tr>\n    <tr>\n      <th>26</th>\n      <td>Titania</td>\n      <td>436282.0</td>\n      <td>8.796000</td>\n      <td>0.00123</td>\n      <td>0.1129</td>\n      <td>1578.0</td>\n      <td>3.660000e+20</td>\n      <td>Uranus</td>\n    </tr>\n    <tr>\n      <th>27</th>\n      <td>Oberon</td>\n      <td>583449.0</td>\n      <td>13.463000</td>\n      <td>0.00140</td>\n      <td>0.1478</td>\n      <td>1522.0</td>\n      <td>4.660000e+20</td>\n      <td>Uranus</td>\n    </tr>\n  </tbody>\n</table>\n</div>"
     },
     "execution_count": 41,
     "metadata": {},
     "output_type": "execute_result"
    }
   ],
   "source": [
    "planet_data = pd.DataFrame()\n",
    "csv_files = {\"Earth\": 'earth_satellites.csv', \"Jupiter\": 'jupiter_satellites.csv',\n",
    "             \"Saturn\": 'saturn_satellites.csv', \"Uranus\": 'uranus_satellites.csv'}\n",
    "\n",
    "for (planet_name, csv_file) in csv_files.items():\n",
    "    data_frame = pd.read_csv(csv_file).dropna()                     # only read in complete data\n",
    "    data_frame[\"Planet\"] = planet_name\n",
    "    planet_data = planet_data.append(data_frame, ignore_index=True) # append with consistent index"
   ],
   "metadata": {
    "collapsed": false,
    "pycharm": {
     "name": "#%%\n"
    }
   }
  }
 ],
 "metadata": {
  "kernelspec": {
   "display_name": "Python 3",
   "language": "python",
   "name": "python3"
  },
  "language_info": {
   "codemirror_mode": {
    "name": "ipython",
    "version": 2
   },
   "file_extension": ".py",
   "mimetype": "text/x-python",
   "name": "python",
   "nbconvert_exporter": "python",
   "pygments_lexer": "ipython2",
   "version": "2.7.6"
  }
 },
 "nbformat": 4,
 "nbformat_minor": 0
}