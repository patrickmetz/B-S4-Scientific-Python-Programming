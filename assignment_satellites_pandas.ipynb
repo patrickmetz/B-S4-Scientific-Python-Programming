{
 "cells": [
  {
   "cell_type": "markdown",
   "metadata": {
    "collapsed": true,
    "pycharm": {
     "name": "#%% md\n"
    }
   },
   "source": [
    "# <center> Scientific Programming with Python\n",
    "## <center> Assignment: Planet Satellites"
   ]
  },
  {
   "cell_type": "markdown",
   "source": [
    "**Author:** Patrick Metz (pmetz2s; 9033945)  \n",
    "**Date:** June 4th, 2021\n",
    "\n",
    "#### Task 1\n",
    "Goal: Import four given csv files into a single dataframe, while adding a \"Planet\" column \n",
    "and removing incomplete rows. The files contain the following data about the satellites of \n",
    "Saturn, Jupiter, Uranus and Earth:\n",
    "\n",
    "| satellite attribute | measured in | type | least significant figures | meaning |\n",
    "| :--- | :--- | :--- | :--- | :--- |\n",
    "| name | n.a. | quoted / string | n.a. | satellite's name|\n",
    "| semimajor axis | km | float | 6 | orbital diameter of path's major axis|\n",
    "| period | days | float | 3 | time for one orbit around Saturn |\n",
    "| eccentricity | n.a. | float | 1 | circularity of orbit, between 0 (circle) and 1 (ellipse) |\n",
    "| inclination | degrees | float | 1 | tilt of orbit |\n",
    "| mean diameter | km | float | 2 | average size |\n",
    "| mass | kg | float | 3 | weight |"
   ],
   "metadata": {
    "collapsed": false
   }
  },
  {
   "cell_type": "code",
   "execution_count": null,
   "outputs": [],
   "source": [],
   "metadata": {
    "collapsed": false,
    "pycharm": {
     "name": "#%%\n"
    }
   }
  }
 ],
 "metadata": {
  "kernelspec": {
   "display_name": "Python 3",
   "language": "python",
   "name": "python3"
  },
  "language_info": {
   "codemirror_mode": {
    "name": "ipython",
    "version": 2
   },
   "file_extension": ".py",
   "mimetype": "text/x-python",
   "name": "python",
   "nbconvert_exporter": "python",
   "pygments_lexer": "ipython2",
   "version": "2.7.6"
  }
 },
 "nbformat": 4,
 "nbformat_minor": 0
}