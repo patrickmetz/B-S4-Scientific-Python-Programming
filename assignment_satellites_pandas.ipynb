{
 "cells": [
  {
   "cell_type": "code",
   "execution_count": 61,
   "outputs": [],
   "source": [
    "import pandas as pd"
   ],
   "metadata": {
    "collapsed": false,
    "pycharm": {
     "name": "#%%\n"
    }
   }
  },
  {
   "cell_type": "markdown",
   "metadata": {
    "collapsed": true,
    "pycharm": {
     "name": "#%% md\n"
    }
   },
   "source": [
    "# <center> Scientific Programming with Python\n",
    "## <center> Assignment: Planet Satellites"
   ]
  },
  {
   "cell_type": "markdown",
   "source": [
    "**Author:** Patrick Metz (pmetz2s; 9033945)  \n",
    "**Date:** June 4th, 2021\n",
    "\n",
    "#### Task 1\n",
    "Goal: Use pandas library to import planet data from four given csv files into a single \n",
    "dataframe, while removing incomplete rows and adding a planet name column. The files \n",
    "contain the following data about the satellites of Saturn, Jupiter, Uranus and Earth:\n",
    "\n",
    "| satellite attribute (measure) | data type<sup>1</sup> | least significant figures | meaning |\n",
    "| :--- | :--- | :--- | :--- |\n",
    "| Name | string | n.a. | satellite's name|\n",
    "| Semimajor Axis (km) | float | 6 | orbital diameter of path's major axis|\n",
    "| Period (days) | float | 3 | time for one orbit around the planet |\n",
    "| Eccentricity | float | 1 | circularity of orbit, between 0 (circle) and 1 (ellipse) |\n",
    "| Inclination (deg) | float | 1 | tilt of orbit |\n",
    "| Mean Diameter (km) | float | 2 | average size |\n",
    "| Mass (kg) | float | 3 | weight |\n",
    "\n",
    "<sup>__1__</sup>: For the given csv files pandas correctly determines appropriate data \n",
    "types. So no extra conversion is needed."
   ],
   "metadata": {
    "collapsed": false
   }
  },
  {
   "cell_type": "code",
   "execution_count": 62,
   "outputs": [],
   "source": [
    "planet_data = pd.DataFrame()\n",
    "csv_files = {\"Earth\": 'earth_satellites.csv', \"Jupiter\": 'jupiter_satellites.csv',\n",
    "             \"Saturn\": 'saturn_satellites.csv', \"Uranus\": 'uranus_satellites.csv'}\n",
    "\n",
    "for (planet_name, csv_file) in csv_files.items():\n",
    "    data_frame = pd.read_csv(csv_file).dropna()  # only read in complete data\n",
    "    data_frame[\"Planet\"] = planet_name\n",
    "    planet_data = planet_data.append(data_frame, ignore_index=True) # append with consistent index"
   ],
   "metadata": {
    "collapsed": false,
    "pycharm": {
     "name": "#%%\n"
    }
   }
  },
  {
   "cell_type": "markdown",
   "source": [
    "#### Task 2\n",
    "Goal: identify the largest and smallest satellite diameters from the planet data."
   ],
   "metadata": {
    "collapsed": false,
    "pycharm": {
     "name": "#%% md\n"
    }
   }
  },
  {
   "cell_type": "code",
   "execution_count": 63,
   "outputs": [
    {
     "name": "stdout",
     "output_type": "stream",
     "text": [
      "Concerning diameter...\n",
      "...the smallest satellite is 2.8 km.\n",
      "...the largest satellite is 10536.4 km.\n"
     ]
    }
   ],
   "source": [
    "diameter = planet_data[\"Mean Diameter (km)\"]\n",
    "\n",
    "print(\"Concerning diameter...\")\n",
    "print(\"...the smallest satellite is %.1f km.\" % diameter.min())\n",
    "print(\"...the largest satellite is %.1f km.\" % diameter.max())"
   ],
   "metadata": {
    "collapsed": false,
    "pycharm": {
     "name": "#%%\n"
    }
   }
  },
  {
   "cell_type": "markdown",
   "source": [
    "#### Task 2\n",
    "Goal: create a correlation matrix, based on Pearson's method, of the planet data's \n",
    "numerical columns. Also comment on the correlation between the semimajor axis and the \n",
    "orbital period. \n",
    "\n",
    "Comment: The resulting correlation coefficient between the two mentioned attributes \n",
    "almost reaching 1, indicates a strong positive linear dependency between those. This\n",
    "basically shows, that one of the attributes grows, when the other grows and that it \n",
    "shrinks when the other shrinks. Or bluntly put: the bigger/smaller the semimajor axis, \n",
    "the longer/shorter the orbital period.\n",
    "\n",
    "Uses code from: https://stackoverflow.com/a/32399908"
   ],
   "metadata": {
    "collapsed": false
   }
  },
  {
   "cell_type": "code",
   "execution_count": 71,
   "outputs": [
    {
     "data": {
      "text/plain": "                     Semimajor Axis (km)  Period (days)  Eccentricity  \\\nSemimajor Axis (km)             1.000000       0.983766      0.927188   \nPeriod (days)                   0.983766       1.000000      0.946545   \nEccentricity                    0.927188       0.946545      1.000000   \nInclination (deg)               0.962307       0.993813      0.933918   \nMean Diameter (km)              0.004038      -0.093400     -0.061836   \nMass (kg)                      -0.017638      -0.068866      0.097956   \n\n                     Inclination (deg)  Mean Diameter (km)  Mass (kg)  \nSemimajor Axis (km)           0.962307            0.004038  -0.017638  \nPeriod (days)                 0.993813           -0.093400  -0.068866  \nEccentricity                  0.933918           -0.061836   0.097956  \nInclination (deg)             1.000000           -0.117098  -0.089248  \nMean Diameter (km)           -0.117098            1.000000   0.726364  \nMass (kg)                    -0.089248            0.726364   1.000000  ",
      "text/html": "<div>\n<style scoped>\n    .dataframe tbody tr th:only-of-type {\n        vertical-align: middle;\n    }\n\n    .dataframe tbody tr th {\n        vertical-align: top;\n    }\n\n    .dataframe thead th {\n        text-align: right;\n    }\n</style>\n<table border=\"1\" class=\"dataframe\">\n  <thead>\n    <tr style=\"text-align: right;\">\n      <th></th>\n      <th>Semimajor Axis (km)</th>\n      <th>Period (days)</th>\n      <th>Eccentricity</th>\n      <th>Inclination (deg)</th>\n      <th>Mean Diameter (km)</th>\n      <th>Mass (kg)</th>\n    </tr>\n  </thead>\n  <tbody>\n    <tr>\n      <th>Semimajor Axis (km)</th>\n      <td>1.000000</td>\n      <td>0.983766</td>\n      <td>0.927188</td>\n      <td>0.962307</td>\n      <td>0.004038</td>\n      <td>-0.017638</td>\n    </tr>\n    <tr>\n      <th>Period (days)</th>\n      <td>0.983766</td>\n      <td>1.000000</td>\n      <td>0.946545</td>\n      <td>0.993813</td>\n      <td>-0.093400</td>\n      <td>-0.068866</td>\n    </tr>\n    <tr>\n      <th>Eccentricity</th>\n      <td>0.927188</td>\n      <td>0.946545</td>\n      <td>1.000000</td>\n      <td>0.933918</td>\n      <td>-0.061836</td>\n      <td>0.097956</td>\n    </tr>\n    <tr>\n      <th>Inclination (deg)</th>\n      <td>0.962307</td>\n      <td>0.993813</td>\n      <td>0.933918</td>\n      <td>1.000000</td>\n      <td>-0.117098</td>\n      <td>-0.089248</td>\n    </tr>\n    <tr>\n      <th>Mean Diameter (km)</th>\n      <td>0.004038</td>\n      <td>-0.093400</td>\n      <td>-0.061836</td>\n      <td>-0.117098</td>\n      <td>1.000000</td>\n      <td>0.726364</td>\n    </tr>\n    <tr>\n      <th>Mass (kg)</th>\n      <td>-0.017638</td>\n      <td>-0.068866</td>\n      <td>0.097956</td>\n      <td>-0.089248</td>\n      <td>0.726364</td>\n      <td>1.000000</td>\n    </tr>\n  </tbody>\n</table>\n</div>"
     },
     "execution_count": 71,
     "metadata": {},
     "output_type": "execute_result"
    }
   ],
   "source": [
    "matrix = planet_data.select_dtypes(\"number\").corr(method=\"pearson\")\n",
    "matrix"
   ],
   "metadata": {
    "collapsed": false,
    "pycharm": {
     "name": "#%%\n"
    }
   }
  }
 ],
 "metadata": {
  "kernelspec": {
   "display_name": "Python 3",
   "language": "python",
   "name": "python3"
  },
  "language_info": {
   "codemirror_mode": {
    "name": "ipython",
    "version": 2
   },
   "file_extension": ".py",
   "mimetype": "text/x-python",
   "name": "python",
   "nbconvert_exporter": "python",
   "pygments_lexer": "ipython2",
   "version": "2.7.6"
  }
 },
 "nbformat": 4,
 "nbformat_minor": 0
}