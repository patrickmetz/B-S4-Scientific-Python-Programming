{
 "cells": [
  {
   "cell_type": "markdown",
   "metadata": {
    "id": "f9axgr7NlBar"
   },
   "source": [
    "# <center> Scientific Programming with Python\n",
    "## <center> Assignment: Saturn's satellites"
   ]
  },
  {
   "cell_type": "markdown",
   "metadata": {
    "id": "pNsd5atblBaz"
   },
   "source": [
    "**Author:** Patrick Metz (pmetz2s; 9033945)  \n",
    "**Date:** May 12th, 2021\n",
    "\n",
    "#### Task 1\n",
    "Goal: Import a given csv file, containing the following data about 18 satellites of Saturn, into memory.\n",
    "\n",
    "| satellite attribute | measured in | type | least significant figures | meaning |\n",
    "| :--- | :--- | :--- | :--- | :--- |\n",
    "| name | n.a. | quoted / string | n.a. | satellite's name|\n",
    "| semimajor axis | km | float | 6 | orbital diameter of path's major axis|\n",
    "| period | days | float | 3 | time for one orbit around Saturn |\n",
    "| eccentricity | n.a. | float | 1 | circularity of orbit, between 0 (circle) and 1 (ellipse) |\n",
    "| inclination | degrees | float | 1 | tilt of orbit |\n",
    "| mean diameter | km | float | 2 | average size |\n",
    "| mass | kg | float | 3 | weight |"
   ]
  },
  {
   "cell_type": "code",
   "execution_count": 49,
   "metadata": {
    "pycharm": {
     "name": "#%%\n"
    }
   },
   "outputs": [],
   "source": [
    "import csv\n",
    "\n",
    "satellite_data = {\"name\": [], \"semimajor_axis\": [], \"period\": [], \"eccentricity\": [], \"inclination\": [],\n",
    "                  \"mean_diameter\": [], \"mass\": []}\n",
    "\n",
    "with open('./saturn_satellites.csv') as csv_file:\n",
    "    csv_reader = csv.DictReader(csv_file,\n",
    "                                satellite_data.keys(),         # use dictionary keys as column names\n",
    "                                quoting=csv.QUOTE_NONNUMERIC)  # treat unquoted fields as floats\n",
    "    next(csv_reader)                                           # skip headline\n",
    "\n",
    "    for csv_row in csv_reader:\n",
    "        for csv_column in csv_row:\n",
    "            satellite_data[csv_column].append(csv_row[csv_column])\n"
   ]
  },
  {
   "cell_type": "markdown",
   "metadata": {},
   "source": [
    "#### Task 2\n",
    "Goal: identify the largest and smallest satellite diameters."
   ]
  },
  {
   "cell_type": "code",
   "execution_count": 50,
   "metadata": {
    "pycharm": {
     "name": "#%%\n"
    }
   },
   "outputs": [
    {
     "name": "stdout",
     "output_type": "stream",
     "text": [
      "Concerning diameter...\n",
      "...the smallest satellite is 2.8 km.\n",
      "...the largest satellite is 5151.0 km.\n"
     ]
    }
   ],
   "source": [
    "diameters = satellite_data.get(\"mean_diameter\")\n",
    "print(\"Concerning diameter...\")\n",
    "print(\"...the smallest satellite is %.1f km.\" % min(diameters))\n",
    "print(\"...the largest satellite is %.1f km.\" % max(diameters))"
   ]
  },
  {
   "cell_type": "markdown",
   "metadata": {},
   "source": [
    "#### Task 3\n",
    "Goal: calculate arithmetic mean and standard deviation of the satellites' semimajor axis.\n",
    "\n",
    "(Division/multiplication is involved: answer has places according to least amount of significant figures in \"semimajor axis\" column: namely 6.)"
   ]
  },
  {
   "cell_type": "code",
   "execution_count": 51,
   "outputs": [
    {
     "name": "stdout",
     "output_type": "stream",
     "text": [
      "The satellites' semimajor axis'...\n",
      "...arithmetic mean is 1.23626e+06 km.\n",
      "...standard deviation is 3.04271e+06 km.\n"
     ]
    }
   ],
   "source": [
    "from statistics import mean, stdev\n",
    "\n",
    "semimajor_axis = satellite_data.get(\"semimajor_axis\")\n",
    "print(\"The satellites' semimajor axis'...\")\n",
    "print(\"...arithmetic mean is %.6g km.\" % mean(semimajor_axis))\n",
    "print(\"...standard deviation is %.6g km.\" % stdev(semimajor_axis))"
   ],
   "metadata": {
    "collapsed": false,
    "pycharm": {
     "name": "#%%\n"
    }
   }
  },
  {
   "cell_type": "markdown",
   "metadata": {
    "pycharm": {
     "name": "#%% md\n"
    }
   },
   "source": [
    "#### Task 4\n",
    "Goal: identify names of satellites most similar to the Earth's Moon, according to its period and mass."
   ]
  },
  {
   "cell_type": "code",
   "execution_count": 52,
   "outputs": [
    {
     "name": "stdout",
     "output_type": "stream",
     "text": [
      "Saturn satellite most similar to the Earth's Moon's...\n",
      "...period is Hyperion.\n",
      "...mass is Titan.\n"
     ]
    }
   ],
   "source": [
    "def most_similar_satellite(attribute_value : float = None, satellite_names = None, satellite_attributes = None) -> str:\n",
    "    \"\"\"\n",
    "    Returns the name of a satellite whose attributes' value is closest compared to a given attribute value, among several satellites.\n",
    "    \n",
    "    :param attribute_value: the value of an attribute (as float), to which a list of satellite attribute values should be compared to\n",
    "    :param satellite_names: a list of satellite names (as strings), having indices corresponding to the parameter satellite_attributes\n",
    "    :param satellite_attributes: a list of satellite attribute values (as floats), having indices corresponding to the parameter satellite_names\n",
    "    :return: the name of the satellite (as string), whose attribute value satisfies the aforementioned condition\n",
    "    \"\"\"\n",
    "    if not isinstance(attribute_value, float):\n",
    "        raise ValueError(\"Please specify an attribute, to compare the satellites to, as a floating point number.\")\n",
    "    \n",
    "    if (not isinstance(satellite_names, list)) or (not all(isinstance(name, str) for name in satellite_names)):\n",
    "        raise ValueError(\"Please specify satellite names as a list of strings.\")    \n",
    "    \n",
    "    if  (not isinstance(satellite_attributes, list)) or (not all(isinstance(attribute, float) for attribute in satellite_attributes)):\n",
    "        raise ValueError(\"Please specify satellite attributes as a list of floating point numbers.\")\n",
    "    \n",
    "    satellite_index = min(\n",
    "        range(len(satellite_attributes)), # create usable index of compared attributes\n",
    "        key=lambda index: abs(            # check distance of every satellite's attribute value\n",
    "            satellite_attributes[index] - attribute_value\n",
    "        )                                                  \n",
    "    )                                                                 \n",
    "    \n",
    "    return satellite_names[satellite_index]\n",
    "    \n",
    "\n",
    "moon_period = 27.3217  # in days\n",
    "moon_mass   = 7.346e22 # in kg\n",
    "\n",
    "satellite_names     = satellite_data.get(\"name\") \n",
    "most_similar_period = most_similar_satellite(moon_period, satellite_names, satellite_data.get(\"period\"))\n",
    "most_similar_mass   = most_similar_satellite(moon_mass, satellite_names, satellite_data.get(\"mass\"))\n",
    "\n",
    "print(\"Saturn satellite most similar to the Earth's Moon's...\")\n",
    "print(\"...period is %s.\" % most_similar_period)\n",
    "print(\"...mass is %s.\" % most_similar_mass)\n"
   ],
   "metadata": {
    "collapsed": false,
    "pycharm": {
     "name": "#%%\n"
    }
   }
  }
 ],
 "metadata": {
  "colab": {
   "name": "intro_example.ipynb",
   "provenance": []
  },
  "kernelspec": {
   "display_name": "Python 3",
   "language": "python",
   "name": "python3"
  },
  "language_info": {
   "codemirror_mode": {
    "name": "ipython",
    "version": 3
   },
   "file_extension": ".py",
   "mimetype": "text/x-python",
   "name": "python",
   "nbconvert_exporter": "python",
   "pygments_lexer": "ipython3",
   "version": "3.8.8"
  }
 },
 "nbformat": 4,
 "nbformat_minor": 1
}