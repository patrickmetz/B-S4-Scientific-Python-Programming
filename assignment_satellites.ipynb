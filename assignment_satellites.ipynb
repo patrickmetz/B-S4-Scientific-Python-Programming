{
 "nbformat": 4,
 "nbformat_minor": 0,
 "metadata": {
  "kernelspec": {
   "display_name": "Python 3",
   "language": "python",
   "name": "python3"
  },
  "language_info": {
   "codemirror_mode": {
    "name": "ipython",
    "version": 3
   },
   "file_extension": ".py",
   "mimetype": "text/x-python",
   "name": "python",
   "nbconvert_exporter": "python",
   "pygments_lexer": "ipython3",
   "version": "3.8.1"
  },
  "colab": {
   "name": "intro_example.ipynb",
   "provenance": []
  }
 },
 "cells": [
  {
   "cell_type": "markdown",
   "metadata": {
    "id": "f9axgr7NlBar"
   },
   "source": [
    "# <center> Scientific Programming with Python\n",
    "## <center> Assignment: Saturn's satellites"
   ]
  },
  {
   "cell_type": "markdown",
   "metadata": {
    "id": "pNsd5atblBaz"
   },
   "source": [
    "**Author:** Patrick Metz (pmetz2s; 9033945)  \n",
    "**Date:** May 10th, 2021\n",
    "\n",
    "#### Task 1\n",
    "Goal: Import the data of file \"satellites.csv\" containing the following data of 18 satellites of Saturn:\n",
    "\n",
    "| satellite attribute | measured in | meaning |\n",
    "| --- | --- | --- |\n",
    "| semimajor axis | km |orbital diameter of path's major axis|\n",
    "| period | days | time for one orbit around Saturn |\n",
    "| eccentricity | n.a. | circularity of orbit, between 0 (circle) and 1 (ellipse) |\n",
    "| inclination | degrees | tilt of orbit |\n",
    "| mean diameter | km | average size |\n",
    "| mass | kg | weight |"
   ]
  },
  {
   "cell_type": "markdown",
   "source": [
    "#### Task 2\n",
    "Goal:"
   ],
   "metadata": {
    "collapsed": false
   }
  },
  {
   "cell_type": "markdown",
   "source": [
    "#### Task 3\n",
    "Goal:"
   ],
   "metadata": {
    "collapsed": false
   }
  },
  {
   "cell_type": "markdown",
   "source": [
    "#### Task 4\n",
    "Goal:\n",
    "\n"
   ],
   "metadata": {
    "collapsed": false,
    "pycharm": {
     "name": "#%% md\n"
    }
   }
  }
 ]
}