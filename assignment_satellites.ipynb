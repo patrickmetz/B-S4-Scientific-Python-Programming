{
 "cells": [
  {
   "cell_type": "markdown",
   "metadata": {
    "id": "f9axgr7NlBar"
   },
   "source": [
    "# <center> Scientific Programming with Python\n",
    "## <center> Assignment: Saturn's satellites"
   ]
  },
  {
   "cell_type": "markdown",
   "metadata": {
    "id": "pNsd5atblBaz"
   },
   "source": [
    "**Author:** Patrick Metz (pmetz2s; 9033945)  \n",
    "**Date:** May 10th, 2021\n",
    "\n",
    "#### Task 1\n",
    "Goal: Import a given csv file, containing the following data about 18 satellites of Saturn, into memory.\n",
    "\n",
    "| satellite attribute | measured in | type | meaning |\n",
    "| :--- | :--- | :--- | :--- |\n",
    "| name | n.a. | quoted / string | satellite's name|\n",
    "| semimajor axis | km | float | orbital diameter of path's major axis|\n",
    "| period | days | float | time for one orbit around Saturn |\n",
    "| eccentricity | n.a. | float | circularity of orbit, between 0 (circle) and 1 (ellipse) |\n",
    "| inclination | degrees | float | tilt of orbit |\n",
    "| mean diameter | km | float | average size |\n",
    "| mass | kg | float | weight |"
   ]
  },
  {
   "cell_type": "code",
   "execution_count": 27,
   "metadata": {
    "pycharm": {
     "name": "#%%\n"
    }
   },
   "outputs": [],
   "source": [
    "import csv\n",
    "\n",
    "satellite_data = {\"name\": [], \"semimajor_axis\": [], \"period\": [], \"eccentricity\": [], \"inclination\": [],\n",
    "                  \"mean_diameter\": [], \"mass\": []}\n",
    "\n",
    "with open('./saturn_satellites.csv') as csv_file:\n",
    "    csv_reader = csv.DictReader(csv_file,\n",
    "                                satellite_data.keys(),         # use dictionary keys as column names\n",
    "                                quoting=csv.QUOTE_NONNUMERIC)  # treat unquoted fields as floats\n",
    "    next(csv_reader)                                           # skip headline\n",
    "\n",
    "    for csv_row in csv_reader:\n",
    "        for csv_column in csv_row:\n",
    "            satellite_data[csv_column].append(csv_row[csv_column])\n"
   ]
  },
  {
   "cell_type": "markdown",
   "metadata": {},
   "source": [
    "#### Task 2\n",
    "Goal: identify the largest and smallest satellite diameters."
   ]
  },
  {
   "cell_type": "code",
   "execution_count": 28,
   "metadata": {
    "pycharm": {
     "name": "#%%\n"
    }
   },
   "outputs": [
    {
     "name": "stdout",
     "output_type": "stream",
     "text": [
      "The smallest satellite diameter is 2.8 km.\n",
      "The largest satellite diameter is 5151.0 km.\n"
     ]
    }
   ],
   "source": [
    "diameters = satellite_data.get(\"mean_diameter\")\n",
    "print('The smallest satellite diameter is %.1f km.' % min(diameters))\n",
    "print('The largest satellite diameter is %.1f km.' % max(diameters))"
   ]
  },
  {
   "cell_type": "markdown",
   "metadata": {},
   "source": [
    "#### Task 3\n",
    "Goal: calculate arithmetic mean and standard deviation of the satellites' semimajor axis."
   ]
  },
  {
   "cell_type": "code",
   "execution_count": 31,
   "outputs": [
    {
     "name": "stdout",
     "output_type": "stream",
     "text": [
      "The arithmetic mean of the satellites' semimajor axis is 1.23626e+06 km.\n",
      "The standard deviation of the satellites' semimajor axis is 3.04271e+06 km.\n"
     ]
    }
   ],
   "source": [
    "from statistics import mean, stdev\n",
    "\n",
    "semimajor_axis = satellite_data.get(\"semimajor_axis\")\n",
    "print('The arithmetic mean of the satellites\\' semimajor axis is %.5e km.' % mean(semimajor_axis))\n",
    "print('The standard deviation of the satellites\\' semimajor axis is %.5e km.' % stdev(semimajor_axis))"
   ],
   "metadata": {
    "collapsed": false,
    "pycharm": {
     "name": "#%%\n"
    }
   }
  },
  {
   "cell_type": "markdown",
   "metadata": {
    "pycharm": {
     "name": "#%% md\n"
    }
   },
   "source": [
    "#### Task 4\n",
    "Goal:\n",
    "\n"
   ]
  }
 ],
 "metadata": {
  "colab": {
   "name": "intro_example.ipynb",
   "provenance": []
  },
  "kernelspec": {
   "display_name": "Python 3",
   "language": "python",
   "name": "python3"
  },
  "language_info": {
   "codemirror_mode": {
    "name": "ipython",
    "version": 3
   },
   "file_extension": ".py",
   "mimetype": "text/x-python",
   "name": "python",
   "nbconvert_exporter": "python",
   "pygments_lexer": "ipython3",
   "version": "3.8.8"
  }
 },
 "nbformat": 4,
 "nbformat_minor": 1
}