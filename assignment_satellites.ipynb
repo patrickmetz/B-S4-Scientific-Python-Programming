{
 "nbformat": 4,
 "nbformat_minor": 0,
 "metadata": {
  "kernelspec": {
   "display_name": "Python 3",
   "language": "python",
   "name": "python3"
  },
  "language_info": {
   "codemirror_mode": {
    "name": "ipython",
    "version": 3
   },
   "file_extension": ".py",
   "mimetype": "text/x-python",
   "name": "python",
   "nbconvert_exporter": "python",
   "pygments_lexer": "ipython3",
   "version": "3.8.1"
  },
  "colab": {
   "name": "intro_example.ipynb",
   "provenance": []
  }
 },
 "cells": [
  {
   "cell_type": "markdown",
   "metadata": {
    "id": "f9axgr7NlBar"
   },
   "source": [
    "# <center> Scientific Programming with Python\n",
    "## <center> Assignment: Saturn's satellites"
   ]
  },
  {
   "cell_type": "markdown",
   "metadata": {
    "id": "pNsd5atblBaz"
   },
   "source": [
    "**Author:** Patrick Metz (pmetz2s; 9033945)  \n",
    "**Date:** May 10th, 2021\n",
    "\n",
    "#### Task 1\n",
    "Goal: Import a csv file, containing the following data of 18 satellites of Saturn.\n",
    "\n",
    "| satellite attribute | measured in | meaning |\n",
    "| --- | --- | --- |\n",
    "| name | n.a. | satellite's name|\n",
    "| semimajor axis | km |orbital diameter of path's major axis|\n",
    "| period | days | time for one orbit around Saturn |\n",
    "| eccentricity | n.a. | circularity of orbit, between 0 (circle) and 1 (ellipse) |\n",
    "| inclination | degrees | tilt of orbit |\n",
    "| mean diameter | km | average size |\n",
    "| mass | kg | weight |"
   ]
  },
  {
   "cell_type": "code",
   "execution_count": 14,
   "outputs": [
    {
     "data": {
      "text/plain": "{'name': ['Pan',\n  'Daphnis',\n  'Atlas',\n  'Prometheus',\n  'Pandora',\n  'Epimetheus',\n  'Janus',\n  'Mimas',\n  'Methone',\n  'Pallene',\n  'Enceladus',\n  'Tethys',\n  'Dione',\n  'Rhea',\n  'Titan',\n  'Hyperion',\n  'Iapetus',\n  'Phoebe'],\n 'semimajor_axis': ['1.33584E+05',\n  '1.36504E+05',\n  '1.37666E+05',\n  '1.39378E+05',\n  '1.41713E+05',\n  '1.51452E+05',\n  '1.51452E+05',\n  '1.85537E+05',\n  '1.94230E+05',\n  '2.12283E+05',\n  '2.38037E+05',\n  '2.94672E+05',\n  '3.77400E+05',\n  '5.27070E+05',\n  '1.221865E+06',\n  '1.500934E+06',\n  '3.560851E+06',\n  '1.2948000E+07'],\n 'period': ['0.575',\n  '0.594',\n  '0.602',\n  '0.613',\n  '0.629',\n  '0.695',\n  '0.695',\n  '0.942',\n  '1.01',\n  '1.154',\n  '1.37',\n  '1.888',\n  '2.737',\n  '4.518',\n  '15.95',\n  '21.28',\n  '79.33',\n  '548.02'],\n 'eccentricity': ['0.00001',\n  '0.00003',\n  '0.0012',\n  '0.0022',\n  '0.0042',\n  '0.0097',\n  '0.0068',\n  '0.0196',\n  '0.01',\n  '0.004',\n  '0.0047',\n  '0.0001',\n  '0.0022',\n  '0.001',\n  '0.0288',\n  '0.0232',\n  '0.0293',\n  '0.1635'],\n 'inclination': ['0.0001',\n  '0.0036',\n  '0.003',\n  '0.007',\n  '0.05',\n  '0.352',\n  '0.164',\n  '1.565',\n  '0.01',\n  '0.18',\n  '0.009',\n  '1.091',\n  '0.028',\n  '0.36',\n  '0.312',\n  '0.615',\n  '8.313',\n  '175.243'],\n 'mean_diameter': ['28.0',\n  '7.6',\n  '30.2',\n  '84.2',\n  '81.4',\n  '116.2',\n  '178.0',\n  '396.0',\n  '2.8',\n  '4.4',\n  '504.0',\n  '1066.0',\n  '1123.0',\n  '1529.0',\n  '5151.0',\n  '266.0',\n  '1471.0',\n  '213.0'],\n 'mass': ['4.95E+15',\n  '7.70E+13',\n  '6.60E+15',\n  '1.59E+17',\n  '1.37E+17',\n  '5.27E+17',\n  '1.90E+18',\n  '3.75E+19',\n  '3.92E+15',\n  '1.15E+16',\n  '1.08E+20',\n  '6.17E+20',\n  '1.10E+21',\n  '2.31E+21',\n  '1.35E+23',\n  '5.58E+18',\n  '1.81E+21',\n  '8.29E+18']}"
     },
     "execution_count": 14,
     "metadata": {},
     "output_type": "execute_result"
    }
   ],
   "source": [
    "import csv\n",
    "\n",
    "imported_data = {\"name\": [], \"semimajor_axis\": [], \"period\": [], \"eccentricity\" : [], \"inclination\" : [], \n",
    "                 \"mean_diameter\" : [], \"mass\" : []}\n",
    "\n",
    "with open('./saturn_satellites.csv') as csv_file:\n",
    "    csv_reader = csv.DictReader(csv_file, imported_data.keys()) # use dict keys as column names\n",
    "    next(csv_reader)  # skip headline\n",
    "    \n",
    "    for csv_row in csv_reader:\n",
    "       for csv_column in csv_row:\n",
    "            imported_data[csv_column].append(csv_row[csv_column])\n",
    "        "
   ],
   "metadata": {
    "collapsed": false,
    "pycharm": {
     "name": "#%%\n"
    }
   }
  },
  {
   "cell_type": "markdown",
   "source": [
    "#### Task 2\n",
    "Goal:"
   ],
   "metadata": {
    "collapsed": false
   }
  },
  {
   "cell_type": "markdown",
   "source": [
    "#### Task 3\n",
    "Goal:"
   ],
   "metadata": {
    "collapsed": false
   }
  },
  {
   "cell_type": "markdown",
   "source": [
    "#### Task 4\n",
    "Goal:\n",
    "\n"
   ],
   "metadata": {
    "collapsed": false,
    "pycharm": {
     "name": "#%% md\n"
    }
   }
  }
 ]
}