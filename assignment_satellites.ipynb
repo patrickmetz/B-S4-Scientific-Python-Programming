{
 "nbformat": 4,
 "nbformat_minor": 0,
 "metadata": {
  "kernelspec": {
   "display_name": "Python 3",
   "language": "python",
   "name": "python3"
  },
  "language_info": {
   "codemirror_mode": {
    "name": "ipython",
    "version": 3
   },
   "file_extension": ".py",
   "mimetype": "text/x-python",
   "name": "python",
   "nbconvert_exporter": "python",
   "pygments_lexer": "ipython3",
   "version": "3.8.1"
  },
  "colab": {
   "name": "intro_example.ipynb",
   "provenance": []
  }
 },
 "cells": [
  {
   "cell_type": "markdown",
   "metadata": {
    "id": "f9axgr7NlBar"
   },
   "source": [
    "# <center> Scientific Programming with Python\n",
    "## <center> Assignment: Saturn's satellites"
   ]
  },
  {
   "cell_type": "markdown",
   "metadata": {
    "id": "pNsd5atblBaz"
   },
   "source": [
    "**Author:** Patrick Metz (pmetz2s; 9033945)  \n",
    "**Date:** May 10th, 2021\n",
    "\n",
    "#### Task 1\n",
    "Goal: Import a csv file, containing the following data of 18 satellites of Saturn.\n",
    "\n",
    "| satellite attribute | measured in | type | meaning |\n",
    "| --- | --- | --- | --- |\n",
    "| name | n.a. | string | satellite's name|\n",
    "| semimajor axis | km | float | orbital diameter of path's major axis|\n",
    "| period | days | float | time for one orbit around Saturn |\n",
    "| eccentricity | n.a. | float | circularity of orbit, between 0 (circle) and 1 (ellipse) |\n",
    "| inclination | degrees | float | tilt of orbit |\n",
    "| mean diameter | km | float | average size |\n",
    "| mass | kg | float | weight |"
   ]
  },
  {
   "cell_type": "code",
   "execution_count": 7,
   "outputs": [],
   "source": [
    "import csv\n",
    "\n",
    "satellite_data = {\"name\": [], \"semimajor_axis\": [], \"period\": [], \"eccentricity\": [], \"inclination\": [],\n",
    "                 \"mean_diameter\": [], \"mass\": []}\n",
    "\n",
    "with open('./saturn_satellites.csv') as csv_file:\n",
    "    csv_reader = csv.DictReader(csv_file,\n",
    "                                satellite_data.keys(),        # use dictionary keys as column names\n",
    "                                quoting=csv.QUOTE_NONNUMERIC) # treat unquoted fields as floats\n",
    "    next(csv_reader) # skip headline\n",
    "\n",
    "    for csv_row in csv_reader:\n",
    "        for csv_column in csv_row:\n",
    "            satellite_data[csv_column].append(csv_row[csv_column])\n"
   ],
   "metadata": {
    "collapsed": false,
    "pycharm": {
     "name": "#%%\n"
    }
   }
  },
  {
   "cell_type": "markdown",
   "source": [
    "#### Task 2\n",
    "Goal: identify the largest and the smallest satellite diameters, in the imported data"
   ],
   "metadata": {
    "collapsed": false
   }
  },
  {
   "cell_type": "code",
   "execution_count": 8,
   "outputs": [
    {
     "name": "stdout",
     "output_type": "stream",
     "text": [
      "The smallest diameter is 2.8 km.\n",
      "The largest diameter is 5151.0 km.\n"
     ]
    }
   ],
   "source": [
    "diameters = satellite_data.get(\"mean_diameter\")\n",
    "smallest_diameter = min(diameters)\n",
    "largest_diameter  = max(diameters)\n",
    "\n",
    "print(f'The smallest diameter is {smallest_diameter} km.')\n",
    "print(f'The largest diameter is {largest_diameter} km.')"
   ],
   "metadata": {
    "collapsed": false,
    "pycharm": {
     "name": "#%%\n"
    }
   }
  },
  {
   "cell_type": "markdown",
   "source": [
    "#### Task 3\n",
    "Goal:"
   ],
   "metadata": {
    "collapsed": false
   }
  },
  {
   "cell_type": "markdown",
   "source": [
    "#### Task 4\n",
    "Goal:\n",
    "\n"
   ],
   "metadata": {
    "collapsed": false,
    "pycharm": {
     "name": "#%% md\n"
    }
   }
  }
 ]
}